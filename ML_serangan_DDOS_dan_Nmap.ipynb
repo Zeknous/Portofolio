{
  "nbformat": 4,
  "nbformat_minor": 0,
  "metadata": {
    "colab": {
      "provenance": []
    },
    "kernelspec": {
      "name": "python3",
      "display_name": "Python 3"
    },
    "language_info": {
      "name": "python"
    }
  },
  "cells": [
    {
      "cell_type": "code",
      "source": [
        "#load libraries\n",
        "import pandas\n",
        "from pandas.plotting import scatter_matrix\n",
        "import matplotlib.pyplot as plt\n",
        "from sklearn import model_selection\n",
        "from sklearn.metrics import classifiction_report\n",
        "from sklearn.metrics import confusion_matrix\n",
        "from sklearn.metrics import accuracy_score\n",
        "from skelearn.linear_model import LogisticRegression\n",
        "from sklearn.tree import DecisionTreeClassifier\n",
        "from sklearn.discriminant_analysis import LinearDiscriminantAnalysis\n",
        "from sklearn.ensemble import RandomForestClassifier\n",
        "import joblib\n",
        "from six import StringIO\n",
        "from IPython.display import Image\n",
        "from sklearn.tree import export_graphviz\n",
        "import pydotplus\n",
        "import os"
      ],
      "metadata": {
        "id": "GCGUyYN-7GuZ"
      },
      "execution_count": null,
      "outputs": []
    },
    {
      "cell_type": "code",
      "execution_count": null,
      "metadata": {
        "id": "kv8jnF033q-d"
      },
      "outputs": [],
      "source": [
        "dfname = \"\"\n",
        "df1 = pd.read_csv(\"\")\n",
        "df1.head(10)\n",
        "df1.isnull().sum"
      ]
    },
    {
      "cell_type": "code",
      "source": [
        "df1 = pd.read_csv(\"\")\n",
        "df1.head(10)"
      ],
      "metadata": {
        "id": "T0xCa8ro4RJl"
      },
      "execution_count": null,
      "outputs": []
    },
    {
      "cell_type": "code",
      "source": [
        "#hapusin colom\n",
        "df1 = df1.drop(df1.columns[[0]], axis=1)\n",
        "df1"
      ],
      "metadata": {
        "id": "OkiWM_Ov4Swr"
      },
      "execution_count": null,
      "outputs": []
    },
    {
      "cell_type": "code",
      "source": [
        "df1['Sourcce'].unique()"
      ],
      "metadata": {
        "id": "RgUKT9L-4eeV"
      },
      "execution_count": null,
      "outputs": []
    },
    {
      "cell_type": "code",
      "source": [
        "df1.drop(df1.index[df1['Source'] == \"\"], inplace = True)\n",
        "df1.drop(df1.index[df1['Source'] == \"\"], inplace = True)"
      ],
      "metadata": {
        "id": "uxUKG5lP4kzh"
      },
      "execution_count": null,
      "outputs": []
    },
    {
      "cell_type": "code",
      "source": [
        "df1"
      ],
      "metadata": {
        "id": "BizxvzoR4uhk"
      },
      "execution_count": null,
      "outputs": []
    },
    {
      "cell_type": "code",
      "source": [
        "update_df1 = df1.fillna(\"\")\n",
        "update_df1.isnull().sum()"
      ],
      "metadata": {
        "id": "sEhyKwa44v1o"
      },
      "execution_count": null,
      "outputs": []
    },
    {
      "cell_type": "code",
      "source": [
        "#print updatenya\n",
        "update_df1.to_csv(\"update_\" + dfname, index = False)"
      ],
      "metadata": {
        "id": "42khqN9t42tR"
      },
      "execution_count": null,
      "outputs": []
    },
    {
      "cell_type": "code",
      "source": [
        "#Hapusin semua rows dengan nilai value null\n",
        "update_df1 = df1.fillna(0)"
      ],
      "metadata": {
        "id": "WAIGhs0B4_KN"
      },
      "execution_count": null,
      "outputs": []
    },
    {
      "cell_type": "code",
      "source": [
        "update_df1['Source'].unique()"
      ],
      "metadata": {
        "id": "z-mvxC5h5Jjr"
      },
      "execution_count": null,
      "outputs": []
    },
    {
      "cell_type": "code",
      "source": [
        "#Convert tcp.flag, ip.dst, ip.src ke integer\n",
        "update_df1['Length'] = update_df1['Length'].apply(lambda x: int(str(x), 16))\n",
        "update_df1['Source'] = update_df1['Source'].apply(lambda x: int(ipaddress.IPv4Address(x)))\n",
        "update_df1['Destination'] = update_df1['Destination'].apply(lambda x: int(ipaddress.IPv4Address(x)))\n",
        "update_df1.to_csv('update_'+dfname, index = False)"
      ],
      "metadata": {
        "id": "rlNWtzyp5N8H"
      },
      "execution_count": null,
      "outputs": []
    },
    {
      "cell_type": "code",
      "source": [
        "df1 = pd.read_csv(\"update_ddos.csv\")"
      ],
      "metadata": {
        "id": "wH-OLtfg58HO"
      },
      "execution_count": null,
      "outputs": []
    },
    {
      "cell_type": "code",
      "source": [
        "from sklearn.preprocessing import LabelEncoder\n",
        "\n",
        "lab = LabelEncoder()\n",
        "\n",
        "df1['Protocol'] = lab.fit_transform(df1['Protocol'])"
      ],
      "metadata": {
        "id": "oSuSsKH-6HIz"
      },
      "execution_count": null,
      "outputs": []
    },
    {
      "cell_type": "code",
      "source": [
        "df1"
      ],
      "metadata": {
        "id": "fL2_M7qe6Tap"
      },
      "execution_count": null,
      "outputs": []
    },
    {
      "cell_type": "code",
      "source": [
        "df1[\"jenis_serangan\"] = \"DDOS\"\n",
        "df1.head()"
      ],
      "metadata": {
        "id": "Gdz0K2FG6U8h"
      },
      "execution_count": null,
      "outputs": []
    },
    {
      "cell_type": "code",
      "source": [
        "df1.to_csv('label_data_DDOS', index = False)"
      ],
      "metadata": {
        "id": "k4KmscKT6b4t"
      },
      "execution_count": null,
      "outputs": []
    },
    {
      "cell_type": "code",
      "source": [
        "df1 = pd.read_csv(\"label_data_DDOS\")\n",
        "df1"
      ],
      "metadata": {
        "id": "wyTHaOhe6jb0"
      },
      "execution_count": null,
      "outputs": []
    },
    {
      "cell_type": "code",
      "source": [
        "from sklearn import preprocessing\n",
        "\n",
        "label_encoder = preprocessing.LabelEncoder()\n",
        "\n",
        "df3['jenis_serangan']= label_endoder.fit_transform(df3['jenis_serangan'])\n",
        "df3['jenis_serangan'].unique()"
      ],
      "metadata": {
        "id": "rbRAuZi16vtL"
      },
      "execution_count": null,
      "outputs": []
    },
    {
      "cell_type": "code",
      "source": [
        "df3"
      ],
      "metadata": {
        "id": "-PBQ3PsR7Ek_"
      },
      "execution_count": null,
      "outputs": []
    },
    {
      "cell_type": "markdown",
      "source": [
        "Splitting data set"
      ],
      "metadata": {
        "id": "QcU7fbhI76IF"
      }
    },
    {
      "cell_type": "code",
      "source": [
        "array = df3.values\n",
        "print(array)\n",
        "X = array [:,0:-1]\n",
        "Y = array [:,-1]\n",
        "validation_size = 0.30\n",
        "seed = 42"
      ],
      "metadata": {
        "id": "hAZGE0Hk77sC"
      },
      "execution_count": null,
      "outputs": []
    },
    {
      "cell_type": "code",
      "source": [
        "X"
      ],
      "metadata": {
        "id": "-60JCsXt8J6i"
      },
      "execution_count": null,
      "outputs": []
    },
    {
      "cell_type": "markdown",
      "source": [
        "Train test dan persiapan scoring"
      ],
      "metadata": {
        "id": "jGbsyaHb8LT2"
      }
    },
    {
      "cell_type": "code",
      "source": [
        "X_train, X_validation, Y_train, Y_validation = model_selection.train_test_split(X, Y, test_size=validation_size, random_state=seed)\n",
        "X_train_set, X_test, Y_train_set, Y_test = model_selection.train_test_split(X_train, Y_train, test_size=validation_size, random_state=seed)"
      ],
      "metadata": {
        "id": "pArG67CV8Kn1"
      },
      "execution_count": null,
      "outputs": []
    },
    {
      "cell_type": "code",
      "source": [
        "#Test options and evaluation metric\n",
        "scoring = 'accuracy'"
      ],
      "metadata": {
        "id": "LUZMMZCO9NAz"
      },
      "execution_count": null,
      "outputs": []
    },
    {
      "cell_type": "markdown",
      "source": [
        "Persiapan model dan akurasi tersebut"
      ],
      "metadata": {
        "id": "z51h3jr29WY6"
      }
    },
    {
      "cell_type": "code",
      "source": [
        "#Evaluating algorithm model\n",
        "\n",
        "models = []\n",
        "models.append(('LR', LogisticRegression()))\n",
        "models.append(('LDA', LinearDiscriminantAnalysis()))\n",
        "models.append(('KNN', KNeighborsClassifier()))\n",
        "models.append(('CART', DecisionTreeClassifier()))"
      ],
      "metadata": {
        "id": "-Ox62MiB9Z9i"
      },
      "execution_count": null,
      "outputs": []
    },
    {
      "cell_type": "code",
      "source": [
        "#evaluate each model in turn\n",
        "results = []\n",
        "names = []\n",
        "for name, model in models:\n",
        "  kfold = model_selection.KFold(n_splits=5, shuffle=True, random_state=seed)\n",
        "  cv_results = model_selection.cross_val_score(model, X_train, Y_train, cv=kfold, scoring=scoring)\n",
        "  results.append(cv_results)\n",
        "  names.append(name)\n",
        "  msg = \"%s Accuracy: %f (+/- %f)\" % (name, cv_results.mean(), cv_results.std())\n",
        "  print(msg)"
      ],
      "metadata": {
        "id": "7g4gG4Ww93xt"
      },
      "execution_count": null,
      "outputs": []
    }
  ]
}