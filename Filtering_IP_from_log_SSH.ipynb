{
  "nbformat": 4,
  "nbformat_minor": 0,
  "metadata": {
    "colab": {
      "provenance": [],
      "authorship_tag": "ABX9TyOfdAoSlZ6SCdfGBQaBwzMx",
      "include_colab_link": true
    },
    "kernelspec": {
      "name": "python3",
      "display_name": "Python 3"
    },
    "language_info": {
      "name": "python"
    }
  },
  "cells": [
    {
      "cell_type": "markdown",
      "metadata": {
        "id": "view-in-github",
        "colab_type": "text"
      },
      "source": [
        "<a href=\"https://colab.research.google.com/github/Zeknous/Portofolio/blob/main/Filtering_IP_from_log_SSH.ipynb\" target=\"_parent\"><img src=\"https://colab.research.google.com/assets/colab-badge.svg\" alt=\"Open In Colab\"/></a>"
      ]
    },
    {
      "cell_type": "code",
      "execution_count": 4,
      "metadata": {
        "colab": {
          "base_uri": "https://localhost:8080/"
        },
        "id": "ny_VNpUVBOdk",
        "outputId": "9301c280-618c-437e-b317-ad1e3095c994"
      },
      "outputs": [
        {
          "output_type": "stream",
          "name": "stdout",
          "text": [
            "--2023-03-16 15:33:13--  https://expbig.bisaai.id/auth.log\n",
            "Resolving expbig.bisaai.id (expbig.bisaai.id)... 117.53.46.162\n",
            "Connecting to expbig.bisaai.id (expbig.bisaai.id)|117.53.46.162|:443... connected.\n",
            "HTTP request sent, awaiting response... 200 OK\n",
            "Length: 250377669 (239M)\n",
            "Saving to: ‘auth.log.1’\n",
            "\n",
            "auth.log.1          100%[===================>] 238.78M  8.01MB/s    in 30s     \n",
            "\n",
            "2023-03-16 15:33:45 (7.84 MB/s) - ‘auth.log.1’ saved [250377669/250377669]\n",
            "\n",
            "--2023-03-16 15:33:45--  http://%20-o/\n",
            "Resolving  -o ( -o)... failed: Name or service not known.\n",
            "wget: unable to resolve host address ‘ -o’\n",
            "--2023-03-16 15:33:45--  http://auth.log/\n",
            "Resolving auth.log (auth.log)... failed: Name or service not known.\n",
            "wget: unable to resolve host address ‘auth.log’\n",
            "FINISHED --2023-03-16 15:33:45--\n",
            "Total wall clock time: 31s\n",
            "Downloaded: 1 files, 239M in 30s (7.84 MB/s)\n"
          ]
        }
      ],
      "source": [
        "!wget \"https://expbig.bisaai.id/auth.log\" \\ -O auth.log --no-check-certificate"
      ]
    },
    {
      "cell_type": "code",
      "source": [
        "!dir\n",
        "with open('auth.log', 'r') as ipx:\n",
        "  print(len(ipx.readlines()))"
      ],
      "metadata": {
        "colab": {
          "base_uri": "https://localhost:8080/"
        },
        "id": "pdmAEqgkBlVn",
        "outputId": "12e1c45e-f146-4b9a-fd6e-26066e84991e"
      },
      "execution_count": 5,
      "outputs": [
        {
          "output_type": "stream",
          "name": "stdout",
          "text": [
            "auth.log  auth.log.1  sample_data\n",
            "2248895\n"
          ]
        }
      ]
    },
    {
      "cell_type": "code",
      "source": [
        "import re\n",
        "import requests\n",
        "\n",
        "with open('auth.log', 'r') as file:\n",
        "   fi=file.readlines()[:2248895]\n",
        "   ips=set()\n",
        "\n",
        "#regex\n",
        "re_ip = re.compile(\"\\d{1,3}.\\d{1,3}.\\d{1,3}.\\d{1,3}\")\n",
        "\n",
        "for line in fi:\n",
        "  ip = re.findall(re_ip, line)\n",
        "  for i in ip:\n",
        "    ips.add(i)\n",
        "print(ips)"
      ],
      "metadata": {
        "colab": {
          "base_uri": "https://localhost:8080/"
        },
        "id": "KMLvlbq1BtJY",
        "outputId": "bda3420e-bb34-4c61-a437-aafa283ea7f4"
      },
      "execution_count": 9,
      "outputs": [
        {
          "output_type": "stream",
          "name": "stderr",
          "text": [
            "IOPub data rate exceeded.\n",
            "The notebook server will temporarily stop sending output\n",
            "to the client in order to avoid crashing it.\n",
            "To change this limit, set the config variable\n",
            "`--NotebookApp.iopub_data_rate_limit`.\n",
            "\n",
            "Current values:\n",
            "NotebookApp.iopub_data_rate_limit=1000000.0 (bytes/sec)\n",
            "NotebookApp.rate_limit_window=3.0 (secs)\n",
            "\n"
          ]
        }
      ]
    },
    {
      "cell_type": "code",
      "source": [
        "ipsx = []\n",
        "for i in ips :\n",
        "  response = requests.get(f'https://ipapi.co/{i}/json/').json()\n",
        "  location_data = {\n",
        "      \"ip\" : i,\n",
        "      \"city\": response.get(\"city\"),\n",
        "      \"region\": response.get(\"region\"),\n",
        "      \"country\": response.get(\"country_name\")\n",
        "  }\n",
        "  ipsx.append(location_data)\n",
        "  print(ipsx)"
      ],
      "metadata": {
        "id": "EaRR-Ji3FapV"
      },
      "execution_count": null,
      "outputs": []
    }
  ]
}